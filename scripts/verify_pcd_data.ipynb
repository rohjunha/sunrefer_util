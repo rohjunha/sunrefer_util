{
 "cells": [
  {
   "cell_type": "code",
   "execution_count": 22,
   "outputs": [],
   "source": [
    "import torch\n",
    "import numpy as np\n",
    "from pathlib import Path\n",
    "\n",
    "# pcd_path = Path.home() / 'data/sunrefer/backup/pcd_1000_old/pcd_train.pt'\n",
    "pcd_path = Path.home() / 'data/sunrefer/pcd_train.pt'\n",
    "items = torch.load(str(pcd_path))"
   ],
   "metadata": {
    "collapsed": false,
    "pycharm": {
     "name": "#%%\n"
    }
   }
  },
  {
   "cell_type": "code",
   "execution_count": 21,
   "outputs": [
    {
     "name": "stdout",
     "output_type": "stream",
     "text": [
      "0 575 1000\n",
      "1 617 1000\n",
      "2 598 1000\n",
      "3 580 1000\n",
      "4 724 1000\n",
      "5 601 1000\n",
      "6 863 1000\n",
      "7 537 1000\n",
      "8 811 1000\n",
      "9 855 1000\n"
     ]
    }
   ],
   "source": [
    "for i in range(10):\n",
    "    cls_name, pcd, bbox = items[i]\n",
    "    cx, cy, cz, sx, sy, sz = bbox\n",
    "    x1 = cx - 0.5 * sx\n",
    "    x2 = cx + 0.5 * sx\n",
    "    y1 = cy - 0.5 * sy\n",
    "    y2 = cy + 0.5 * sy\n",
    "    z1 = cz - 0.5 * sz\n",
    "    z2 = cz + 0.5 * sz\n",
    "    xyz = pcd[:, :3]\n",
    "    inliers = (x1 <= xyz[:, 0]) & (xyz[:, 0] <= x2) & (y1 <= xyz[:, 1]) & (xyz[:, 1] <= y2) & (z1 <= xyz[:, 2]) & (xyz[:, 2] <= z2)\n",
    "    print(i, np.sum(inliers), xyz.shape[0])"
   ],
   "metadata": {
    "collapsed": false,
    "pycharm": {
     "name": "#%%\n"
    }
   }
  }
 ],
 "metadata": {
  "kernelspec": {
   "display_name": "Python 3",
   "language": "python",
   "name": "python3"
  },
  "language_info": {
   "codemirror_mode": {
    "name": "ipython",
    "version": 2
   },
   "file_extension": ".py",
   "mimetype": "text/x-python",
   "name": "python",
   "nbconvert_exporter": "python",
   "pygments_lexer": "ipython2",
   "version": "2.7.6"
  }
 },
 "nbformat": 4,
 "nbformat_minor": 0
}