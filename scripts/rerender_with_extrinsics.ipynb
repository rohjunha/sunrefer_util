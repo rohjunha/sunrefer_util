{
 "cells": [
  {
   "cell_type": "code",
   "execution_count": 1,
   "outputs": [
    {
     "name": "stdout",
     "output_type": "stream",
     "text": [
      "Jupyter environment detected. Enabling Open3D WebVisualizer.\n",
      "[Open3D INFO] WebRTC GUI backend enabled.\n",
      "[Open3D INFO] WebRTCWindowSystem: HTTP handshake server disabled.\n"
     ]
    }
   ],
   "source": [
    "import numpy as np\n",
    "import cv2\n",
    "import open3d as o3d\n",
    "import open3d.visualization.rendering as rendering\n",
    "\n",
    "from utils.meta_io import fetch_scene_object_by_image_id\n",
    "from utils.intrinsic_fetcher import IntrinsicFetcher"
   ],
   "metadata": {
    "collapsed": false,
    "pycharm": {
     "name": "#%%\n"
    }
   }
  },
  {
   "cell_type": "code",
   "execution_count": 4,
   "metadata": {
    "collapsed": true,
    "pycharm": {
     "name": "#%%\n"
    }
   },
   "outputs": [],
   "source": [
    "scene_by_image_id = fetch_scene_object_by_image_id('v2_3d')\n",
    "intrinsic_fetcher = IntrinsicFetcher()"
   ]
  },
  {
   "cell_type": "code",
   "execution_count": 6,
   "outputs": [],
   "source": [],
   "metadata": {
    "collapsed": false,
    "pycharm": {
     "name": "#%%\n"
    }
   }
  },
  {
   "cell_type": "code",
   "execution_count": 18,
   "outputs": [
    {
     "ename": "TypeError",
     "evalue": "add_geometry(): incompatible function arguments. The following argument types are supported:\n    1. (self: open3d.cuda.pybind.visualization.rendering.Open3DScene, name: str, geometry: open3d.cuda.pybind.geometry.Geometry3D, material: open3d.cuda.pybind.visualization.rendering.MaterialRecord, add_downsampled_copy_for_fast_rendering: bool = True) -> None\n    2. (self: open3d.cuda.pybind.visualization.rendering.Open3DScene, name: str, geometry: open3d.cuda.pybind.t.geometry.Geometry, material: open3d.cuda.pybind.visualization.rendering.MaterialRecord, add_downsampled_copy_for_fast_rendering: bool = True) -> None\n\nInvoked with: <open3d.cuda.pybind.visualization.rendering.Open3DScene object at 0x7f598b9832b0>, 'pcd', PointCloud with 280687 points.",
     "output_type": "error",
     "traceback": [
      "\u001B[0;31m---------------------------------------------------------------------------\u001B[0m",
      "\u001B[0;31mTypeError\u001B[0m                                 Traceback (most recent call last)",
      "\u001B[0;32m/tmp/ipykernel_1893912/2426858454.py\u001B[0m in \u001B[0;36m<module>\u001B[0;34m\u001B[0m\n\u001B[0;32m----> 1\u001B[0;31m \u001B[0mrender_to_image\u001B[0m\u001B[0;34m(\u001B[0m\u001B[0;34m'000001_1_0'\u001B[0m\u001B[0;34m)\u001B[0m\u001B[0;34m\u001B[0m\u001B[0;34m\u001B[0m\u001B[0m\n\u001B[0m",
      "\u001B[0;32m/tmp/ipykernel_1893912/1914338771.py\u001B[0m in \u001B[0;36mrender_to_image\u001B[0;34m(uniq_id)\u001B[0m\n\u001B[1;32m     18\u001B[0m     \u001B[0mcolor\u001B[0m\u001B[0;34m.\u001B[0m\u001B[0mbase_color\u001B[0m \u001B[0;34m=\u001B[0m \u001B[0;34m[\u001B[0m\u001B[0;36m0\u001B[0m\u001B[0;34m,\u001B[0m \u001B[0;36m0\u001B[0m\u001B[0;34m,\u001B[0m \u001B[0;36m0\u001B[0m\u001B[0;34m,\u001B[0m \u001B[0;36m1\u001B[0m\u001B[0;34m]\u001B[0m\u001B[0;34m\u001B[0m\u001B[0;34m\u001B[0m\u001B[0m\n\u001B[1;32m     19\u001B[0m     \u001B[0mcolor\u001B[0m\u001B[0;34m.\u001B[0m\u001B[0mshader\u001B[0m \u001B[0;34m=\u001B[0m \u001B[0;34m'defaultLit'\u001B[0m\u001B[0;34m\u001B[0m\u001B[0;34m\u001B[0m\u001B[0m\n\u001B[0;32m---> 20\u001B[0;31m     \u001B[0mrender\u001B[0m\u001B[0;34m.\u001B[0m\u001B[0mscene\u001B[0m\u001B[0;34m.\u001B[0m\u001B[0madd_geometry\u001B[0m\u001B[0;34m(\u001B[0m\u001B[0;34m'pcd'\u001B[0m\u001B[0;34m,\u001B[0m \u001B[0mpcd\u001B[0m\u001B[0;34m)\u001B[0m\u001B[0;34m\u001B[0m\u001B[0;34m\u001B[0m\u001B[0m\n\u001B[0m\u001B[1;32m     21\u001B[0m \u001B[0;34m\u001B[0m\u001B[0m\n\u001B[1;32m     22\u001B[0m     \u001B[0mRt\u001B[0m \u001B[0;34m=\u001B[0m \u001B[0mnp\u001B[0m\u001B[0;34m.\u001B[0m\u001B[0meye\u001B[0m\u001B[0;34m(\u001B[0m\u001B[0;36m4\u001B[0m\u001B[0;34m,\u001B[0m \u001B[0mdtype\u001B[0m\u001B[0;34m=\u001B[0m\u001B[0mnp\u001B[0m\u001B[0;34m.\u001B[0m\u001B[0mfloat32\u001B[0m\u001B[0;34m)\u001B[0m\u001B[0;34m\u001B[0m\u001B[0;34m\u001B[0m\u001B[0m\n",
      "\u001B[0;31mTypeError\u001B[0m: add_geometry(): incompatible function arguments. The following argument types are supported:\n    1. (self: open3d.cuda.pybind.visualization.rendering.Open3DScene, name: str, geometry: open3d.cuda.pybind.geometry.Geometry3D, material: open3d.cuda.pybind.visualization.rendering.MaterialRecord, add_downsampled_copy_for_fast_rendering: bool = True) -> None\n    2. (self: open3d.cuda.pybind.visualization.rendering.Open3DScene, name: str, geometry: open3d.cuda.pybind.t.geometry.Geometry, material: open3d.cuda.pybind.visualization.rendering.MaterialRecord, add_downsampled_copy_for_fast_rendering: bool = True) -> None\n\nInvoked with: <open3d.cuda.pybind.visualization.rendering.Open3DScene object at 0x7f598b9832b0>, 'pcd', PointCloud with 280687 points."
     ]
    }
   ],
   "source": [
    "render_to_image('000001_1_0')"
   ],
   "metadata": {
    "collapsed": false,
    "pycharm": {
     "name": "#%%\n"
    }
   }
  },
  {
   "cell_type": "code",
   "execution_count": 17,
   "outputs": [],
   "source": [
    "def render_to_image(uniq_id: str):\n",
    "    image_id, object_id, anno_id = uniq_id.split('_')\n",
    "    object_id = int(object_id)\n",
    "    scene = scene_by_image_id[image_id]\n",
    "    fx, fy, cx, cy, height, width = intrinsic_fetcher[image_id]\n",
    "\n",
    "    render = rendering.OffscreenRenderer(width, height)\n",
    "    color_raw = cv2.imread(str(scene.rgb_path), cv2.IMREAD_COLOR)\n",
    "    depth_raw = cv2.imread(str(scene.depth_path), cv2.IMREAD_UNCHANGED)\n",
    "    rgbd_image = o3d.geometry.RGBDImage.create_from_sun_format(\n",
    "        o3d.geometry.Image(color_raw),\n",
    "        o3d.geometry.Image(depth_raw),\n",
    "        convert_rgb_to_intensity=False)\n",
    "    pcd = o3d.geometry.PointCloud.create_from_rgbd_image(\n",
    "        image=rgbd_image,\n",
    "        intrinsic=o3d.camera.PinholeCameraIntrinsic(width, height, fx, fy, cx, cy))\n",
    "    color = rendering.MaterialRecord()\n",
    "    color.base_color = [0, 0, 0, 1]\n",
    "    color.shader = 'defaultLit'\n",
    "    render.scene.add_geometry('pcd', pcd, color)\n",
    "\n",
    "    Rt = np.eye(4, dtype=np.float32)\n",
    "    Rt[:3, :3] = scene.extrinsics\n",
    "    render.setup_camera(o3d.camera.PinholeCameraIntrinsic(width, height, fx, fy, cx, cy), Rt)\n",
    "    img = render.render_to_image()\n",
    "    o3d.io.write_image('test.png', img, 9)\n",
    "\n",
    "    # Tyz = np.array([\n",
    "    #     [1, 0, 0, 0],\n",
    "    #     [0, 0, 1, 0],\n",
    "    #     [0, -1, 0, 0],\n",
    "    #     [0, 0, 0, 1]], dtype=np.float32)\n",
    "    # Rt = Tyz @ Rt\n",
    "\n",
    "\n",
    "\n",
    "\n",
    "    # o3d_obj_list = []\n",
    "    # o3d_obj_list.append(pcd)\n",
    "    #\n",
    "    # coord_frame_orig = o3d.geometry.TriangleMesh.create_coordinate_frame(size=0.6, origin=[0, 0, 0])\n",
    "    # # coord_frame_revised = o3d.geometry.TriangleMesh.create_coordinate_frame(size=0.6, origin=[0, 0, 0])\n",
    "    # # coord_frame_revised.transform(np.linalg.inv(Rt))\n",
    "    # #\n",
    "    # o3d_obj_list.append(coord_frame_orig)\n",
    "    # # o3d_obj_list.append(coord_frame_revised)\n",
    "    # #\n",
    "    # # for oid, bbox_3d in enumerate(scene.gt_3d_bbox):\n",
    "    # #     # class_name = bbox_3d.class_name[0]  # str\n",
    "    # #     centroid = bbox_3d.centroid[0]  # (3, )\n",
    "    # #     basis = bbox_3d.basis  # (3, 3)\n",
    "    # #     coeffs = bbox_3d.coeffs[0]  # (3, )\n",
    "    # #\n",
    "    # #     if self.highlight and oid == object_id:\n",
    "    # #         color = [0, 1, 0]\n",
    "    # #         radius = 0.03\n",
    "    # #     else:\n",
    "    # #         color = [1, 0, 0]\n",
    "    # #         radius = 0.015\n",
    "    # #\n",
    "    # #     line_mesh = create_line_mesh(centroid, basis, coeffs, aabb=self.aabb, color=color, radius=radius)\n",
    "    # #     for s in line_mesh.cylinder_segments:\n",
    "    # #         s.transform(np.linalg.inv(Rt))\n",
    "    # #     o3d_obj_list += line_mesh.cylinder_segments\n",
    "    # o3d.visualization.draw_geometries(o3d_obj_list)a"
   ],
   "metadata": {
    "collapsed": false,
    "pycharm": {
     "name": "#%%\n"
    }
   }
  },
  {
   "cell_type": "code",
   "execution_count": 61,
   "outputs": [],
   "source": [
    "def compute_3d_bbox(uniq_id: str):\n",
    "    image_id, object_id, anno_id = uniq_id.split('_')\n",
    "    object_id = int(object_id)\n",
    "    scene = scene_by_image_id[image_id]\n",
    "    fx, fy, cx, cy, height, width = intrinsic_fetcher[image_id]\n",
    "\n",
    "    Rt = np.eye(4, dtype=np.float32)\n",
    "    Rt[:3, :3] = scene.extrinsics\n",
    "\n",
    "    print(scene.extrinsics)\n",
    "\n",
    "    # Tyz = np.array([\n",
    "    #     [1, 0, 0, 0],\n",
    "    #     [0, 0, 1, 0],\n",
    "    #     [0, -1, 0, 0],\n",
    "    #     [0, 0, 0, 1]], dtype=np.float32)\n",
    "    # Rt = Tyz @ Rt\n",
    "\n",
    "    # Rt = np.array([\n",
    "    #     [1, 0, 0, 0],\n",
    "    #     [0, 0, 1, 0],\n",
    "    #     [0, -1, 0, 0],\n",
    "    #     [0, 0, 0, 1]], dtype=np.float32)\n",
    "\n",
    "    print(Rt)\n",
    "    print(',\\n'.join(list(map(str, np.reshape(np.linalg.inv(Rt), (16, )).tolist()))))\n",
    "\n",
    "    color_raw = cv2.imread(str(scene.rgb_path), cv2.IMREAD_COLOR)\n",
    "    color_raw = cv2.cvtColor(color_raw, cv2.COLOR_BGR2RGB)\n",
    "    depth_raw = cv2.imread(str(scene.depth_path), cv2.IMREAD_UNCHANGED)\n",
    "    rgbd_image = o3d.geometry.RGBDImage.create_from_sun_format(\n",
    "        o3d.geometry.Image(color_raw),\n",
    "        o3d.geometry.Image(depth_raw),\n",
    "        convert_rgb_to_intensity=False)\n",
    "    pcd = o3d.geometry.PointCloud.create_from_rgbd_image(\n",
    "        image=rgbd_image,\n",
    "        intrinsic=o3d.camera.PinholeCameraIntrinsic(width, height, fx, fy, cx, cy))\n",
    "        # extrinsic=Rt)\n",
    "    o3d.io.write_point_cloud(\"pcd.ply\", pcd)\n",
    "\n",
    "    # o3d_obj_list = []\n",
    "    # o3d_obj_list.append(pcd)\n",
    "\n",
    "    coord_frame_orig = o3d.geometry.TriangleMesh.create_coordinate_frame(size=0.6, origin=[0, 0, 0])\n",
    "    viewer = o3d.visualization.Visualizer()\n",
    "    viewer.create_window('viewer', visible=True, width=width, height=height)\n",
    "    viewer.add_geometry(pcd)\n",
    "    viewer.add_geometry(coord_frame_orig)\n",
    "    cam = viewer.get_view_control().convert_to_pinhole_camera_parameters()\n",
    "    cam.intrinsic = o3d.camera.PinholeCameraIntrinsic(width, height, fx, fy, cx, cy)\n",
    "    print(cam.intrinsic.intrinsic_matrix)\n",
    "    # print(cam.intrinsic)\n",
    "    # cam.extrinsic = Rt  #np.linalg.inv(Rt)\n",
    "    # print(cam)\n",
    "    viewer.get_view_control().convert_from_pinhole_camera_parameters(cam)\n",
    "    viewer.run()\n",
    "    viewer.capture_screen_image('screen.png')\n",
    "    viewer.destroy_window()\n",
    "\n",
    "    # o3d.visualization.draw_geometries(o3d_obj_list)"
   ],
   "metadata": {
    "collapsed": false,
    "pycharm": {
     "name": "#%%\n"
    }
   }
  },
  {
   "cell_type": "code",
   "execution_count": 62,
   "outputs": [
    {
     "name": "stdout",
     "output_type": "stream",
     "text": [
      "[[ 0.979589  0.200614  0.012593]\n",
      " [-0.200614  0.97182   0.123772]\n",
      " [ 0.012593 -0.123772  0.992231]]\n",
      "[[ 0.979589  0.200614  0.012593  0.      ]\n",
      " [-0.200614  0.97182   0.123772  0.      ]\n",
      " [ 0.012593 -0.123772  0.992231  0.      ]\n",
      " [ 0.        0.        0.        1.      ]]\n",
      "0.9795898199081421,\n",
      "-0.20061418414115906,\n",
      "0.012592272832989693,\n",
      "0.0,\n",
      "0.20061418414115906,\n",
      "0.9718203544616699,\n",
      "-0.12377206981182098,\n",
      "0.0,\n",
      "0.012592272832989693,\n",
      "0.12377206981182098,\n",
      "0.9922305345535278,\n",
      "0.0,\n",
      "0.0,\n",
      "0.0,\n",
      "0.0,\n",
      "1.0\n",
      "[[529.5   0.  365. ]\n",
      " [  0.  529.5 265. ]\n",
      " [  0.    0.    1. ]]\n",
      "\u001B[1;33m[Open3D WARNING] [ViewControl] ConvertFromPinholeCameraParameters() failed because window height and width do not match.\u001B[0;m\n"
     ]
    }
   ],
   "source": [
    "compute_3d_bbox('000001_1_0')"
   ],
   "metadata": {
    "collapsed": false,
    "pycharm": {
     "name": "#%%\n"
    }
   }
  },
  {
   "cell_type": "code",
   "execution_count": null,
   "outputs": [],
   "source": [],
   "metadata": {
    "collapsed": false,
    "pycharm": {
     "name": "#%%\n"
    }
   }
  },
  {
   "cell_type": "code",
   "execution_count": 68,
   "outputs": [],
   "source": [
    "def convert_raw_depth(raw_depth):\n",
    "    \"\"\"Numpy implementation of SUNRGBD depth processing.\"\"\"\n",
    "    shift_depth = np.bitwise_or(np.right_shift(raw_depth, 3), np.left_shift(raw_depth, 13))\n",
    "    float_depth = shift_depth.astype(dtype=np.float32) / 1000.\n",
    "    float_depth[float_depth > 7.0] = 0.\n",
    "    return float_depth\n",
    "\n",
    "\n",
    "def convert_pcd(raw_depth, fx, fy, cx, cy):\n",
    "    m = raw_depth > 0\n",
    "    zz = convert_raw_depth(raw_depth)\n",
    "    mx = np.linspace(0, raw_depth.shape[1] - 1, raw_depth.shape[1])\n",
    "    my = np.linspace(0, raw_depth.shape[0] - 1, raw_depth.shape[0])\n",
    "    rx = np.linspace(0., 1., raw_depth.shape[1])\n",
    "    ry = np.linspace(0., 1., raw_depth.shape[0])\n",
    "    rx, ry = np.meshgrid(rx, ry)\n",
    "    xx, yy = np.meshgrid(mx, my)\n",
    "    xx = (xx - cx) * zz / fx\n",
    "    yy = (yy - cy) * zz / fy\n",
    "    pcd = np.stack((xx, yy, zz), axis=-1)\n",
    "    return pcd, m, rx, ry\n",
    "\n",
    "\n",
    "def interpolate_projected_points(uniq_id: str):\n",
    "    image_id, object_id, anno_id = uniq_id.split('_')\n",
    "    object_id = int(object_id)\n",
    "    scene = scene_by_image_id[image_id]\n",
    "    fx, fy, cx, cy, height, width = intrinsic_fetcher[image_id]\n",
    "\n",
    "    color_raw = cv2.imread(str(scene.rgb_path), cv2.IMREAD_COLOR)\n",
    "    color_raw = cv2.cvtColor(color_raw, cv2.COLOR_BGR2RGB)\n",
    "    depth_raw = cv2.imread(str(scene.depth_path), cv2.IMREAD_UNCHANGED)\n",
    "    color_np = np.asarray(color_raw, dtype=np.uint8)\n",
    "    depth_np = np.asarray(depth_raw, dtype=np.uint16)\n",
    "    pcd, mask, rx, ry = convert_pcd(raw_depth=depth_np, fx=fx, fy=fy, cx=cx, cy=cy)\n",
    "\n",
    "    Rt = np.array(scene.extrinsics)\n",
    "    # Rt = np.array([\n",
    "    #     [1, 0, 0],\n",
    "    #     [0, 0, 1],\n",
    "    #     [0, -1, 0]], dtype=np.float32)\n",
    "    # Rt = Tyz @ Rt\n",
    "\n",
    "    # print(Rt)\n",
    "    # print(np.linalg.inv(Rt))\n",
    "    pcd = pcd @ np.transpose(Rt)\n",
    "    # pcd = pcd @ np.linalg.inv(Rt)\n",
    "\n",
    "    print(Rt.shape)\n",
    "    print(pcd.shape)\n",
    "    print(mask.shape)\n",
    "\n",
    "    pcd[mask, 0] *= fx / pcd[mask, 2]\n",
    "    pcd[mask, 1] *= fy / pcd[mask, 2]\n",
    "\n",
    "    new_image = np.zeros((height, width, 3), dtype=np.uint8)\n",
    "\n",
    "\n",
    "\n",
    "    # reproject to 2D image again after transformation.\n",
    "    from math import isnan\n",
    "\n",
    "    for rr in range(pcd.shape[0]):\n",
    "        for cc in range(pcd.shape[1]):\n",
    "            if isnan(pcd[rr, cc, 0]) or isnan(pcd[rr, cc, 1]):\n",
    "                continue\n",
    "            xx = int(pcd[rr, cc, 0] + cx)\n",
    "            yy = int(pcd[rr, cc, 1] + cy)\n",
    "            # if rr == 0:\n",
    "            #     print(rr, nr, cc, nc)\n",
    "            if 0 <= xx < pcd.shape[1] and 0 <= yy < pcd.shape[0]:\n",
    "                new_image[yy, xx, :] = color_np[rr, cc, :]\n",
    "\n",
    "    # for i, rr in enumerate(range(pcd.shape[0])):\n",
    "    #     for j, cc in enumerate(range(pcd.shape[1])):\n",
    "    #         ir, ic = int(rr), int(cc)\n",
    "    #         if 0 <= ir < pcd.shape[1] and 0 <= ic < pcd.shape[0]:\n",
    "    #             new_image[ir, ic, :] = color_np[i, j, :]\n",
    "\n",
    "    mask = mask.astype(np.uint8) * 255\n",
    "\n",
    "    o3d.io.write_image('test.png', o3d.geometry.Image(new_image))\n",
    "    o3d.io.write_image('mask.png', o3d.geometry.Image(mask))\n",
    "\n",
    "\n",
    "\n",
    "    # image = np.zeros((height, width, 3), dtype=np.uint8)\n",
    "\n",
    "    # Rt = np.eye(4, dtype=np.float32)\n",
    "    # Rt[:3, :3] = scene.extrinsics\n",
    "\n",
    "    # rgbd_image = o3d.geometry.RGBDImage.create_from_sun_format(\n",
    "    #     o3d.geometry.Image(color_raw),\n",
    "    #     o3d.geometry.Image(depth_raw),\n",
    "    #     convert_rgb_to_intensity=False)\n",
    "    # pcd = o3d.geometry.PointCloud.create_from_rgbd_image(\n",
    "    #     image=rgbd_image,\n",
    "    #     intrinsic=o3d.camera.PinholeCameraIntrinsic(width, height, fx, fy, cx, cy))\n",
    "        # extrinsic=Rt)\n",
    "    # o3d.io.write_point_cloud(\"pcd.ply\", pcd)\n",
    "\n",
    "    # o3d_obj_list = []\n",
    "    # o3d_obj_list.append(pcd)\n",
    "\n",
    "    # coord_frame_orig = o3d.geometry.TriangleMesh.create_coordinate_frame(size=0.6, origin=[0, 0, 0])\n",
    "    # viewer = o3d.visualization.Visualizer()\n",
    "    # viewer.create_window('viewer', visible=True, width=width, height=height)\n",
    "    # viewer.add_geometry(pcd)\n",
    "    # viewer.add_geometry(coord_frame_orig)\n",
    "    # cam = viewer.get_view_control().convert_to_pinhole_camera_parameters()\n",
    "    # cam.intrinsic = o3d.camera.PinholeCameraIntrinsic(width, height, fx, fy, cx, cy)\n",
    "    # print(cam.intrinsic.intrinsic_matrix)\n",
    "    # # print(cam.intrinsic)\n",
    "    # # cam.extrinsic = Rt  #np.linalg.inv(Rt)\n",
    "    # # print(cam)\n",
    "    # viewer.get_view_control().convert_from_pinhole_camera_parameters(cam)\n",
    "    # viewer.run()\n",
    "    # viewer.capture_screen_image('screen.png')\n",
    "    # viewer.destroy_window()\n",
    "\n",
    "    # o3d.visualization.draw_geometries(o3d_obj_list)"
   ],
   "metadata": {
    "collapsed": false,
    "pycharm": {
     "name": "#%%\n"
    }
   }
  },
  {
   "cell_type": "code",
   "execution_count": 69,
   "outputs": [
    {
     "name": "stdout",
     "output_type": "stream",
     "text": [
      "(3, 3)\n",
      "(530, 730, 3)\n",
      "(530, 730)\n"
     ]
    },
    {
     "name": "stderr",
     "output_type": "stream",
     "text": [
      "/tmp/ipykernel_13565/1678654989.py:53: RuntimeWarning: divide by zero encountered in true_divide\n",
      "  pcd[mask, 0] *= fx / pcd[mask, 2]\n",
      "/tmp/ipykernel_13565/1678654989.py:53: RuntimeWarning: invalid value encountered in multiply\n",
      "  pcd[mask, 0] *= fx / pcd[mask, 2]\n",
      "/tmp/ipykernel_13565/1678654989.py:54: RuntimeWarning: divide by zero encountered in true_divide\n",
      "  pcd[mask, 1] *= fy / pcd[mask, 2]\n",
      "/tmp/ipykernel_13565/1678654989.py:54: RuntimeWarning: invalid value encountered in multiply\n",
      "  pcd[mask, 1] *= fy / pcd[mask, 2]\n"
     ]
    }
   ],
   "source": [
    "interpolate_projected_points('000001_1_0')"
   ],
   "metadata": {
    "collapsed": false,
    "pycharm": {
     "name": "#%%\n"
    }
   }
  }
 ],
 "metadata": {
  "kernelspec": {
   "display_name": "Python 3",
   "language": "python",
   "name": "python3"
  },
  "language_info": {
   "codemirror_mode": {
    "name": "ipython",
    "version": 2
   },
   "file_extension": ".py",
   "mimetype": "text/x-python",
   "name": "python",
   "nbconvert_exporter": "python",
   "pygments_lexer": "ipython2",
   "version": "2.7.6"
  }
 },
 "nbformat": 4,
 "nbformat_minor": 0
}