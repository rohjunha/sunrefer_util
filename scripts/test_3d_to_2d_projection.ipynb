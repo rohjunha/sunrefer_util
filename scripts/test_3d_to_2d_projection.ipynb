{
 "cells": [
  {
   "cell_type": "code",
   "execution_count": null,
   "metadata": {
    "collapsed": true,
    "pycharm": {
     "name": "#%%\n"
    }
   },
   "outputs": [],
   "source": [
    "from pathlib import Path\n",
    "from utils.pred_and_anno import fetch_predicted_bbox_by_image_id\n",
    "from utils.meta_io import fetch_scene_object_by_image_id\n",
    "from utils.intrinsic_fetcher import IntrinsicFetcher\n",
    "import torch\n",
    "\n",
    "\n",
    "# scene_by_image_id = fetch_scene_object_by_image_id('v2_3d')\n",
    "# intrinsic_fetcher = IntrinsicFetcher()\n",
    "# pred_bbox_by_image_id = fetch_predicted_bbox_by_image_id()\n",
    "# seg_out_dir = Path('/home/junha/Downloads/segformer')\n",
    "# exception_label_indices = [0, 3, 5]"
   ]
  },
  {
   "cell_type": "code",
   "execution_count": 2,
   "outputs": [],
   "source": [
    "scene_by_image_id_2d = fetch_scene_object_by_image_id('v2_2d')"
   ],
   "metadata": {
    "collapsed": false,
    "pycharm": {
     "name": "#%%\n"
    }
   }
  },
  {
   "cell_type": "code",
   "execution_count": 7,
   "outputs": [],
   "source": [
    "image_id = '000001'\n",
    "scene_by_image_id = torch.load('/home/junha/data/sunrefer/meta.pt')"
   ],
   "metadata": {
    "collapsed": false,
    "pycharm": {
     "name": "#%%\n"
    }
   }
  },
  {
   "cell_type": "code",
   "execution_count": 1,
   "outputs": [
    {
     "name": "stdout",
     "output_type": "stream",
     "text": [
      "Jupyter environment detected. Enabling Open3D WebVisualizer.\n",
      "[Open3D INFO] WebRTC GUI backend enabled.\n",
      "[Open3D INFO] WebRTCWindowSystem: HTTP handshake server disabled.\n"
     ]
    }
   ],
   "source": [],
   "metadata": {
    "collapsed": false,
    "pycharm": {
     "name": "#%%\n"
    }
   }
  },
  {
   "cell_type": "code",
   "execution_count": null,
   "outputs": [
    {
     "name": "stdout",
     "output_type": "stream",
     "text": [
      "Jupyter environment detected. Enabling Open3D WebVisualizer.\n",
      "[Open3D INFO] WebRTC GUI backend enabled.\n",
      "[Open3D INFO] WebRTCWindowSystem: HTTP handshake server disabled.\n"
     ]
    }
   ],
   "source": [
    "from compute_iou import PredictionVisualizer\n",
    "vis = PredictionVisualizer(\n",
    "        aabb=True,\n",
    "        highlight=True,\n",
    "        apply_seg_out_mask=False,\n",
    "        verbose=True,\n",
    "        bbox_2d_ratio=1.0,\n",
    "        pcd_th_ratio=0.1,\n",
    "        mask_ratio=0.8)\n",
    "vis.compute_3d_bbox('000001_1_0')"
   ],
   "metadata": {
    "collapsed": false,
    "pycharm": {
     "name": "#%%\n",
     "is_executing": true
    }
   }
  },
  {
   "cell_type": "code",
   "execution_count": 5,
   "outputs": [],
   "source": [],
   "metadata": {
    "collapsed": false,
    "pycharm": {
     "name": "#%%\n"
    }
   }
  },
  {
   "cell_type": "code",
   "execution_count": 34,
   "outputs": [],
   "source": [
    "import numpy as np\n",
    "\n",
    "\n",
    "def convert_orientedbbox2AABB(verts):\n",
    "    x_min = np.min(verts[:, 0], axis=0)\n",
    "    x_max = np.max(verts[:, 0], axis=0)\n",
    "    y_min = np.min(verts[:, 1], axis=0)\n",
    "    y_max = np.max(verts[:, 1], axis=0)\n",
    "    z_min = np.min(verts[:, 2], axis=0)\n",
    "    z_max = np.max(verts[:, 2], axis=0)\n",
    "    cx = (x_min + x_max) / 2\n",
    "    cy = (y_min + y_max) / 2\n",
    "    cz = (z_min + z_max) / 2\n",
    "    sx = x_max - x_min\n",
    "    sy = y_max - y_min\n",
    "    sz = z_max - z_min\n",
    "    return cx, cy, cz, sx, sy, sz\n",
    "\n",
    "\n",
    "def aabb_from_coeffs(bbox_3d):\n",
    "    centroid = np.array(bbox_3d.centroid).reshape(-1, )\n",
    "    basis = np.array(bbox_3d.basis)\n",
    "    coeffs = np.array(bbox_3d.coeffs).reshape(-1, )\n",
    "    vx = basis[0] * coeffs[0]\n",
    "    vy = basis[1] * coeffs[1]\n",
    "    vz = basis[2] * coeffs[2]\n",
    "\n",
    "    cl = [[-1, -1, -1],\n",
    "          [1, -1, -1],\n",
    "          [-1, 1, -1],\n",
    "          [1, 1, -1],\n",
    "          [-1, -1, 1],\n",
    "          [1, -1, 1],\n",
    "          [-1, 1, 1],\n",
    "          [1, 1, 1]]\n",
    "    pl = [dx * vx + dy * vy + dz * vz for dx, dy, dz in cl]\n",
    "    cx, cy, cz, sx, sy, sz = convert_orientedbbox2AABB(np.array(pl))\n",
    "    cx += centroid[0]\n",
    "    cy += centroid[1]\n",
    "    cz += centroid[2]\n",
    "    return cx, cy, cz, sx, sy, sz\n",
    "    # cx, cy, cz, sx, sy, sz = convert_orientedbbox2AABB(np.array(pl))"
   ],
   "metadata": {
    "collapsed": false,
    "pycharm": {
     "name": "#%%\n"
    }
   }
  },
  {
   "cell_type": "code",
   "execution_count": 63,
   "outputs": [
    {
     "name": "stdout",
     "output_type": "stream",
     "text": [
      "[[-1.08636364  1.90454545 -0.14772727]]\n",
      "[[0.78156708 0.35640538 1.05227273]]\n",
      "[[ 0.10468478  0.99450545  0.        ]\n",
      " [-0.99478144  0.10202887  0.        ]\n",
      " [ 0.          0.          1.        ]]\n",
      "529.5 529.5 365.0 265.0\n",
      "[1, 1, 221, 529]\n",
      "qx (4258.861537634391, -6561.476921863775)\n",
      "(62.97016707492287, 306.07100239393367)\n",
      "(-58.34725534464803, 285.53550119696683)\n",
      "(184.28758949449374, 285.53550119696683)\n",
      "(184.28758949449374, 326.6065035909005)\n",
      "(-58.34725534464803, 326.6065035909005)\n",
      "[[-1.08636364  1.90454545 -0.14772727]]\n",
      "[[0.78156708 0.35640538 1.05227273]]\n",
      "[[ 0.10468478  0.99450545  0.        ]\n",
      " [-0.99478144  0.10202887  0.        ]\n",
      " [ 0.          0.          1.        ]]\n",
      "529.5 529.5 365.0 265.0\n",
      "[1, 1, 221, 529]\n",
      "qx (4258.861537634391, -6561.476921863775)\n",
      "(62.97016707492287, 306.07100239393367)\n",
      "(-58.34725534464803, 285.53550119696683)\n",
      "(184.28758949449374, 285.53550119696683)\n",
      "(184.28758949449374, 326.6065035909005)\n",
      "(-58.34725534464803, 326.6065035909005)\n",
      "[[-1.08636364  1.90454545 -0.14772727]]\n",
      "[[0.78156708 0.35640538 1.05227273]]\n",
      "[[ 0.10468478  0.99450545  0.        ]\n",
      " [-0.99478144  0.10202887  0.        ]\n",
      " [ 0.          0.          1.        ]]\n",
      "529.5 529.5 365.0 265.0\n",
      "[1, 1, 221, 529]\n",
      "qx (4258.861537634391, -6561.476921863775)\n",
      "(62.97016707492287, 306.07100239393367)\n",
      "(-58.34725534464803, 285.53550119696683)\n",
      "(184.28758949449374, 285.53550119696683)\n",
      "(184.28758949449374, 326.6065035909005)\n",
      "(-58.34725534464803, 326.6065035909005)\n",
      "[[-1.08636364  1.90454545 -0.14772727]]\n",
      "[[0.78156708 0.35640538 1.05227273]]\n",
      "[[ 0.10468478  0.99450545  0.        ]\n",
      " [-0.99478144  0.10202887  0.        ]\n",
      " [ 0.          0.          1.        ]]\n",
      "529.5 529.5 365.0 265.0\n",
      "[1, 1, 221, 529]\n",
      "qx (4258.861537634391, -6561.476921863775)\n",
      "(62.97016707492287, 306.07100239393367)\n",
      "(-58.34725534464803, 285.53550119696683)\n",
      "(184.28758949449374, 285.53550119696683)\n",
      "(184.28758949449374, 326.6065035909005)\n",
      "(-58.34725534464803, 326.6065035909005)\n",
      "[[-1.08636364  1.90454545 -0.14772727]]\n",
      "[[0.78156708 0.35640538 1.05227273]]\n",
      "[[ 0.10468478  0.99450545  0.        ]\n",
      " [-0.99478144  0.10202887  0.        ]\n",
      " [ 0.          0.          1.        ]]\n",
      "529.5 529.5 365.0 265.0\n",
      "[1, 1, 221, 529]\n",
      "qx (4258.861537634391, -6561.476921863775)\n",
      "(62.97016707492287, 306.07100239393367)\n",
      "(-58.34725534464803, 285.53550119696683)\n",
      "(184.28758949449374, 285.53550119696683)\n",
      "(184.28758949449374, 326.6065035909005)\n",
      "(-58.34725534464803, 326.6065035909005)\n"
     ]
    }
   ],
   "source": [
    "from scripts.compute_iou import convert_orientedbbox2AABB\n",
    "\n",
    "image_id = '000001'\n",
    "pred_bbox_list = pred_bbox_by_image_id[image_id]\n",
    "scene_3d = scene_by_image_id[image_id]\n",
    "scene_2d = scene_by_image_id_2d[image_id]\n",
    "for uniq_id, pred_bbox_2d in pred_bbox_list:\n",
    "    image_id, object_id, anno_id = uniq_id.split('_')\n",
    "    object_id = int(object_id)\n",
    "    gt_bbox_3d = scene_3d.gt_3d_bbox[object_id]\n",
    "    print(gt_bbox_3d.centroid)\n",
    "    print(gt_bbox_3d.coeffs)\n",
    "    print(gt_bbox_3d.basis)\n",
    "\n",
    "    gt_bbox_2d = scene_2d.gt_2d_bbox[object_id]\n",
    "    fx, fy, tx, ty = scene_3d.K[0, 0], scene_3d.K[1, 1], scene_3d.K[0, 2], scene_3d.K[1, 2]\n",
    "    # print(uniq_id, gt_bbox_2d, gt_bbox_3d)\n",
    "    # print(fx, fy, tx, ty)\n",
    "    cx, cy, cz, sx, sy, sz = aabb_from_coeffs(gt_bbox_3d)\n",
    "    cy, cz = -cz, cy\n",
    "    sz, sy = sy, sz\n",
    "    print(fx, fy, tx, ty)\n",
    "    print(gt_bbox_2d.gt_bbox_2d)\n",
    "\n",
    "    # px = (gt_bbox_3d.centroid @ np.transpose(scene_3d.extrinsics))[0]\n",
    "    px = gt_bbox_3d.centroid[0]\n",
    "    p0 = cx, cy, cz\n",
    "    p1 = cx - 0.5 * sx, cy - 0.5 * cy, cz\n",
    "    p2 = cx + 0.5 * sx, cy - 0.5 * cy, cz\n",
    "    p3 = cx + 0.5 * sx, cy + 0.5 * cy, cz\n",
    "    p4 = cx - 0.5 * sx, cy + 0.5 * cy, cz\n",
    "\n",
    "    def projection(p):\n",
    "        return p[0] / p[2] * fx + tx, p[1] / p[2] * fy + ty\n",
    "\n",
    "    # qx = (px[0] / px[2]) * fx + tx, (px[1] / px[2]) * fy + ty\n",
    "    # q0 = (p0[0] / p0[2]) * fx + tx, (p0[1] / p0[2]) * fy + ty\n",
    "    # q1 = (p1[0] / p1[2]) * fx + tx, (p1[1] / p1[2]) * fy + ty\n",
    "    # q2 = (p2[0] / p2[2]) * fx + tx, (p2[1] / p2[2]) * fy + ty\n",
    "    # q3 = (p3[0] / p3[2]) * fx + tx, (p3[1] / p3[2]) * fy + ty\n",
    "    # q4 = (p4[0] / p4[2]) * fx + tx, (p4[1] / p4[2]) * fy + ty\n",
    "    qx = projection(px)\n",
    "    q0 = projection(p0)\n",
    "    q1 = projection(p1)\n",
    "    q2 = projection(p2)\n",
    "    q3 = projection(p3)\n",
    "    q4 = projection(p4)\n",
    "    print('qx', qx)\n",
    "    print(q0)\n",
    "    print(q1)\n",
    "    print(q2)\n",
    "    print(q3)\n",
    "    print(q4)"
   ],
   "metadata": {
    "collapsed": false,
    "pycharm": {
     "name": "#%%\n"
    }
   }
  },
  {
   "cell_type": "code",
   "execution_count": null,
   "outputs": [],
   "source": [],
   "metadata": {
    "collapsed": false,
    "pycharm": {
     "name": "#%%\n"
    }
   }
  }
 ],
 "metadata": {
  "kernelspec": {
   "display_name": "Python 3",
   "language": "python",
   "name": "python3"
  },
  "language_info": {
   "codemirror_mode": {
    "name": "ipython",
    "version": 2
   },
   "file_extension": ".py",
   "mimetype": "text/x-python",
   "name": "python",
   "nbconvert_exporter": "python",
   "pygments_lexer": "ipython2",
   "version": "2.7.6"
  }
 },
 "nbformat": 4,
 "nbformat_minor": 0
}